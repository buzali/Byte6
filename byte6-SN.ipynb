{
 "cells": [
  {
   "cell_type": "markdown",
   "metadata": {},
   "source": [
    "<h1>Social Network Analysis</h1>\n",
    "\n",
    "\n",
    "The goal of this byte is to explore some algorithms and visualizations relating to networks"
   ]
  },
  {
   "cell_type": "markdown",
   "metadata": {},
   "source": [
    "K-Core Algorithm Introduction:\n",
    "============\n",
    "* K-Core is an approach of simplifying a graph by removing the edges that have small degrees. The goal of the algorithm is to find groups of nodes that are all connected to at least k other people in the same group \n",
    "* For more information, you can read this paper http://arxiv.org/pdf/cs/0504107v2.pdf\n",
    "\n",
    "Algorithm:\n",
    "-------------\n",
    "1. Delete all the nodes and corresppoding edges that have degrees less than k\n",
    "2. Calculate the degrees of all the remaining nodes.\n",
    "3. If the degrees of all the nodes are larger than k or equal to k, return; Otherwise, repeat from step 1"
   ]
  },
  {
   "cell_type": "code",
   "execution_count": 160,
   "metadata": {
    "collapsed": false
   },
   "outputs": [
    {
     "name": "stdout",
     "output_type": "stream",
     "text": [
      "237010\n"
     ]
    }
   ],
   "source": [
    "import copy\n",
    "# open the file you have downloaded\n",
    "# these files are organized \n",
    "file = open(\"ca-HepPh.txt\")\n",
    "# this returns an array with one entry for each line ni the file\n",
    "lines = file.readlines()\n",
    "print len(lines)\n",
    "\n",
    "# Note: the format of the snap files is to list a node (identified by a unique number)\n",
    "# and all of the nodes it links to (also identified by numbers), on the same line, separated by tabs."
   ]
  },
  {
   "cell_type": "code",
   "execution_count": 161,
   "metadata": {
    "collapsed": false
   },
   "outputs": [
    {
     "name": "stdout",
     "output_type": "stream",
     "text": [
      "number of unique edges\n",
      "237010\n",
      "number of unique nodes\n",
      "12008\n"
     ]
    }
   ],
   "source": [
    "# construct the graph\n",
    "\n",
    "# a set is an unordered collection of unique elements\n",
    "edges = set()\n",
    "\n",
    "# this will store our nodes\n",
    "nodes = {}\n",
    "\n",
    "# divide the line into the node and all of its edges\n",
    "\n",
    "# for each line in the file that was loaded in\n",
    "for line in lines:\n",
    "    # divide the line into the node and all of its edges    \n",
    "    data = line.split()\n",
    "    a = int(data[0])\n",
    "    b = int(data[1])\n",
    "    # add the edge\n",
    "    edges.add((a, b))\n",
    "    # update the count for the number of times we've seen each node\n",
    "    nodes[a] = nodes.get(a, -1) + 1\n",
    "    nodes[b] = nodes.get(b, -1) + 1\n",
    "    \n",
    "print \"number of unique edges\"\n",
    "print len(edges)\n",
    "print \"number of unique nodes\" \n",
    "print len(nodes)"
   ]
  },
  {
   "cell_type": "code",
   "execution_count": 162,
   "metadata": {
    "collapsed": false
   },
   "outputs": [],
   "source": [
    "# get the degrees of each node in a set of edges\n",
    "def get_degrees(edges):\n",
    "    degree_counts={}\n",
    "    \n",
    "    # for each pair of nodes (edge) \n",
    "    for i,j in edges:\n",
    "        # increment the count for the number of edges connected\n",
    "        # to each node by one \n",
    "        degree_counts[i] = degree_counts.get(i, 0) + 1\n",
    "        degree_counts[j] = degree_counts.get(j, 0) + 1\n",
    "    return degree_counts\n",
    "\n",
    "# Delete all nodes in delete_nodes from edges\n",
    "def delete_node(edges, delete_nodes):\n",
    "    # construct a new set of edges\n",
    "    new_edges = []\n",
    "    \n",
    "    print \"# of nodes to be deleted\", len(delete_nodes)\n",
    "    \n",
    "    # loop through all the current edges\n",
    "    for i, j in edges:\n",
    "        # if an edges two nodes are not in the\n",
    "        # set of nodes to be deleted\n",
    "        if i not in delete_nodes and j not in delete_nodes:\n",
    "            # append that edge to our new edges\n",
    "            new_edges.append((i,j))\n",
    "    return new_edges\n",
    "\n",
    "# kcore algorithm\n",
    "# We run the kcore algorithm to delete all \n",
    "# the nodes whose cores are less than k\n",
    "# returns a new set of edges and nodes\n",
    "# including only those in the k core.\n",
    "def kcore(edges, k):\n",
    "    # make a complete copy of the edges so we can delete or change \n",
    "    # things without messing up our original\n",
    "    edges = copy.deepcopy(edges)\n",
    "    # now for each pair of nodes, count the number of \n",
    "    degree_counts = get_degrees(edges)\n",
    "    # sort the nodes by degree and return\n",
    "    # only the node numbers (not their degree)\n",
    "    sorted_nodes = sorted(degree_counts, key = degree_counts.get)\n",
    "    print \"largest degree: \", degree_counts[sorted_nodes[0]]\n",
    "    # repeatedly delete all nodes with degrees < k to find the k core\n",
    "    # if we run out of nodes, or the largest count is < k we should stop\n",
    "    while ((len(sorted_nodes) > 0) and (degree_counts[sorted_nodes[0]]<k)):\n",
    "        # collect nodes with degrees < k in to_delete\n",
    "        to_delete = set()\n",
    "        for node in sorted_nodes:\n",
    "            if degree_counts[node]<k:\n",
    "                to_delete.add(node)\n",
    "            else:\n",
    "                break\n",
    "        # delete all edges that include those nodes\n",
    "        edges = delete_node(edges, to_delete) \n",
    "        print \"# of edges left:\",len(edges)\n",
    "        # recount the degrees for this (smaller) graph\n",
    "        degree_counts = get_degrees(edges)\n",
    "        # resort the nodes\n",
    "        sorted_nodes = sorted(degree_counts, key = degree_counts.get)\n",
    "    return edges, sorted_nodes\n"
   ]
  },
  {
   "cell_type": "code",
   "execution_count": 163,
   "metadata": {
    "collapsed": false
   },
   "outputs": [
    {
     "name": "stdout",
     "output_type": "stream",
     "text": [
      "largest degree:  2\n",
      "# of nodes to be deleted 1494\n",
      "# of edges left: 234344\n",
      "# of nodes to be deleted 39\n",
      "# of edges left: 234266\n"
     ]
    }
   ],
   "source": [
    "core_edges, core_nodes=kcore(edges, 3)"
   ]
  },
  {
   "cell_type": "markdown",
   "metadata": {},
   "source": [
    "Next, let's find if there exists clusters(connected components)\n",
    "-------------------------------------------------------"
   ]
  },
  {
   "cell_type": "code",
   "execution_count": 164,
   "metadata": {
    "collapsed": false
   },
   "outputs": [],
   "source": [
    "# We can use this method to create \n",
    "# an adjacency matrix to represent the graph\n",
    "def build_neighborhood(edges, nodes):\n",
    "    neighborhood = {}\n",
    "    for node in nodes:\n",
    "        # create a place to store the neighbors\n",
    "        neighborhood[node]=set()\n",
    "        for edge in edges:\n",
    "            # if either side of the edge contains node\n",
    "            # add the other side as a neighbor\n",
    "            if node == edge[0]:\n",
    "                neighborhood[node].add(edge[1])\n",
    "            if node == edge[1]:\n",
    "                neighborhood[node].add(edge[0])\n",
    "    return neighborhood\n",
    "\n",
    "# This method is used to discover the connected components\n",
    "# The basic idea is Breadth First Search\n",
    "# We start from a node and find all the nodes it can reach\n",
    "# In this way we can get a cluster of nodes which is called\n",
    "# a connected component\n",
    "# to start, we pass in the edges, \n",
    "def get_connected_components(edges, neighborhood, nodes):\n",
    "    result = []\n",
    "    nodes = set(nodes)\n",
    "    # keep track of what we've seen\n",
    "    visited = set()\n",
    "    # loop until there are no more nodes\n",
    "    while nodes:\n",
    "        # grab the first one\n",
    "        node = nodes.pop()\n",
    "        # create a new set for it \n",
    "        component = set()\n",
    "        # start searching from node\n",
    "        queue = [node]\n",
    "        while queue:\n",
    "            # pick a node and mark as visited\n",
    "            node = queue.pop(0)\n",
    "            visited.add(node)\n",
    "            # add it to our connected component\n",
    "            component.add(node)\n",
    "            # find all its neighbors\n",
    "            neighbors = neighborhood[node]\n",
    "            # add them to the queue (if we haven't seen them before)\n",
    "            for neighbor in neighbors:\n",
    "                if neighbor not in visited:\n",
    "                    nodes.discard(neighbor)\n",
    "                    queue.append(neighbor)\n",
    "        result.append(component)\n",
    "    return result"
   ]
  },
  {
   "cell_type": "code",
   "execution_count": null,
   "metadata": {
    "collapsed": false
   },
   "outputs": [],
   "source": [
    "neighborhood = build_neighborhood(core_edges, core_nodes)\n",
    "ret = get_connected_components(core_edges, neighborhood, core_nodes)\n",
    "print \"# of connected components\",len(ret)"
   ]
  },
  {
   "cell_type": "markdown",
   "metadata": {},
   "source": [
    "Comparing K-core size:\n",
    "-------------\n",
    "The following graphs show the relationship between the value K, the number of connected components, and nodes.\n",
    "1. Delete all the nodes and corresppoding edges that have degrees less than k\n",
    "2. Calculate the degrees of all the remaining nodes.\n",
    "3. If the degrees of all the nodes are larger than k or equal to k, return; Otherwise, repeat from step 1"
   ]
  },
  {
   "cell_type": "code",
   "execution_count": null,
   "metadata": {
    "collapsed": false
   },
   "outputs": [],
   "source": [
    "i_s = []\n",
    "n_comp = []\n",
    "n_nodes = []\n",
    "for i in range(1,10):\n",
    "    print i\n",
    "    core_edges, core_nodes=kcore(edges, i)\n",
    "    neighborhood = build_neighborhood(core_edges, core_nodes)\n",
    "    ret = get_connected_components(core_edges, neighborhood, core_nodes)\n",
    "    print \"# of connected components\",len(ret)\n",
    "    n_nodes.append(len(core_nodes))\n",
    "    i_s.append(i)\n",
    "    n_comp.append(len(ret))\n"
   ]
  },
  {
   "cell_type": "code",
   "execution_count": 126,
   "metadata": {
    "collapsed": false
   },
   "outputs": [
    {
     "data": {
      "image/png": "[encoded data removed]",
      "text/plain": [
       "<matplotlib.figure.Figure at 0x102c68250>"
      ]
     },
     "metadata": {},
     "output_type": "display_data"
    }
   ],
   "source": [
    "# code to analyze undirected graphs\n",
    "%matplotlib inline\n",
    "from pylab import *\n",
    "import matplotlib.pyplot as plt\n",
    "\n",
    "figure()\n",
    "loglog(i_s, n_comp, '*')\n",
    "xlabel('K')\n",
    "ylabel('number of components')\n",
    "title('K vs number of components')\n",
    "show()\n"
   ]
  },
  {
   "cell_type": "code",
   "execution_count": 127,
   "metadata": {
    "collapsed": false
   },
   "outputs": [
    {
     "data": {
      "image/png": "[encoded data removed]",
      "text/plain": [
       "<matplotlib.figure.Figure at 0x10b747f90>"
      ]
     },
     "metadata": {},
     "output_type": "display_data"
    }
   ],
   "source": [
    "figure()\n",
    "loglog(i_s, n_nodes, '*')\n",
    "xlabel('K')\n",
    "ylabel('number of nodes')\n",
    "title('K vs number of nodes')\n",
    "show()"
   ]
  },
  {
   "cell_type": "markdown",
   "metadata": {},
   "source": [
    "Visualization\n",
    "------------\n",
    "You may need to install the library \"networkx\". It is a very great tool to help you analyze graph data. You can combine it with Dephi to visualize and analyze social network. Here we use D3 library to visualize the graph data after running k-core algorithm. You can use other different fancy tools or graphs to visualize it."
   ]
  },
  {
   "cell_type": "code",
   "execution_count": 128,
   "metadata": {
    "collapsed": false
   },
   "outputs": [],
   "source": [
    "import networkx as nx\n",
    "from networkx.readwrite import json_graph\n",
    "import json\n",
    "\n",
    "# create a graph and add al the edges\n",
    "G=nx.Graph()\n",
    "for edge in edges:\n",
    "    G.add_edge(edge[0],edge[1])\n",
    "\n",
    "nld = json_graph.node_link_data(G)\n",
    "# We store the data in a json file\n",
    "# So the javascript code can read it\n",
    "json.dump(nld, open('force.json','w'))"
   ]
  },
  {
   "cell_type": "code",
   "execution_count": null,
   "metadata": {
    "collapsed": false,
    "scrolled": true
   },
   "outputs": [],
   "source": [
    "from IPython.display import IFrame\n",
    "\n",
    "# IPython Notebook can serve files and display them into\n",
    "# inline frames. Prepend the path with the 'files' prefix.\n",
    "\n",
    "viz_file = 'force.html'\n",
    "IFrame(viz_file, width=700, height=550)"
   ]
  },
  {
   "cell_type": "markdown",
   "metadata": {},
   "source": [
    "Power Law Property\n",
    "---------------------\n",
    "* You can download some other undirected datasets from SNAP and check whether it follows the power law properties.\n",
    "* You can also modify this code to make it able to generate indegree and outdegree loglog plot of directed graphs. Compare their differences and try to explain it."
   ]
  },
  {
   "cell_type": "code",
   "execution_count": null,
   "metadata": {
    "collapsed": true
   },
   "outputs": [],
   "source": []
  },
  {
   "cell_type": "code",
   "execution_count": 130,
   "metadata": {
    "collapsed": false
   },
   "outputs": [
    {
     "data": {
      "image/png": "[encoded data removed]",
      "text/plain": [
       "<matplotlib.figure.Figure at 0x1037ff190>"
      ]
     },
     "metadata": {},
     "output_type": "display_data"
    }
   ],
   "source": [
    "# code to analyze undirected graphs\n",
    "%matplotlib inline\n",
    "from pylab import *\n",
    "import matplotlib.pyplot as plt\n",
    "  \n",
    "# get the degrees for each node (again)\n",
    "nodes = get_degrees(edges)\n",
    "\n",
    "v = nodes.values()\n",
    "# this ensures that we don't have any values more than once\n",
    "noRep = list(set(v))\n",
    "noRep.sort()\n",
    "\n",
    "x = []\n",
    "y = []\n",
    "for count in noRep:\n",
    "    # f is the number of times this value occurs\n",
    "    f = v.count(count)\n",
    "    x.append(count)\n",
    "    y.append(f)\n",
    "figure()\n",
    "loglog(x, y, '*')\n",
    "xlabel('x')\n",
    "ylabel('y')\n",
    "title('power law plot')\n",
    "show()"
   ]
  },
  {
   "cell_type": "code",
   "execution_count": 37,
   "metadata": {
    "collapsed": false,
    "scrolled": false
   },
   "outputs": [
    {
     "name": "stdout",
     "output_type": "stream",
     "text": [
      "1\n"
     ]
    },
    {
     "ename": "AttributeError",
     "evalue": "'function' object has no attribute 'deepcopy'",
     "output_type": "error",
     "traceback": [
      "\u001b[0;31m---------------------------------------------------------------------------\u001b[0m",
      "\u001b[0;31mAttributeError\u001b[0m                            Traceback (most recent call last)",
      "\u001b[0;32m<ipython-input-37-c4c96e9e1a7e>\u001b[0m in \u001b[0;36m<module>\u001b[0;34m()\u001b[0m\n\u001b[1;32m      4\u001b[0m \u001b[0;32mfor\u001b[0m \u001b[0mi\u001b[0m \u001b[0;32min\u001b[0m \u001b[0mrange\u001b[0m\u001b[0;34m(\u001b[0m\u001b[0;36m1\u001b[0m\u001b[0;34m,\u001b[0m\u001b[0;36m10\u001b[0m\u001b[0;34m)\u001b[0m\u001b[0;34m:\u001b[0m\u001b[0;34m\u001b[0m\u001b[0m\n\u001b[1;32m      5\u001b[0m     \u001b[0;32mprint\u001b[0m \u001b[0mi\u001b[0m\u001b[0;34m\u001b[0m\u001b[0m\n\u001b[0;32m----> 6\u001b[0;31m     \u001b[0mcore_edges\u001b[0m\u001b[0;34m,\u001b[0m \u001b[0mcore_nodes\u001b[0m\u001b[0;34m=\u001b[0m\u001b[0mkcore\u001b[0m\u001b[0;34m(\u001b[0m\u001b[0medges\u001b[0m\u001b[0;34m,\u001b[0m \u001b[0mi\u001b[0m\u001b[0;34m)\u001b[0m\u001b[0;34m\u001b[0m\u001b[0m\n\u001b[0m\u001b[1;32m      7\u001b[0m     \u001b[0mneighborhood\u001b[0m \u001b[0;34m=\u001b[0m \u001b[0mbuild_neighborhood\u001b[0m\u001b[0;34m(\u001b[0m\u001b[0mcore_edges\u001b[0m\u001b[0;34m,\u001b[0m \u001b[0mcore_nodes\u001b[0m\u001b[0;34m)\u001b[0m\u001b[0;34m\u001b[0m\u001b[0m\n\u001b[1;32m      8\u001b[0m     \u001b[0mret\u001b[0m \u001b[0;34m=\u001b[0m \u001b[0mget_connected_components\u001b[0m\u001b[0;34m(\u001b[0m\u001b[0mcore_edges\u001b[0m\u001b[0;34m,\u001b[0m \u001b[0mneighborhood\u001b[0m\u001b[0;34m,\u001b[0m \u001b[0mcore_nodes\u001b[0m\u001b[0;34m)\u001b[0m\u001b[0;34m\u001b[0m\u001b[0m\n",
      "\u001b[0;32m<ipython-input-26-934ed0958c0d>\u001b[0m in \u001b[0;36mkcore\u001b[0;34m(edges, k)\u001b[0m\n\u001b[1;32m     35\u001b[0m     \u001b[0;31m# make a complete copy of the edges so we can delete or change\u001b[0m\u001b[0;34m\u001b[0m\u001b[0;34m\u001b[0m\u001b[0m\n\u001b[1;32m     36\u001b[0m     \u001b[0;31m# things without messing up our original\u001b[0m\u001b[0;34m\u001b[0m\u001b[0;34m\u001b[0m\u001b[0m\n\u001b[0;32m---> 37\u001b[0;31m     \u001b[0medges\u001b[0m \u001b[0;34m=\u001b[0m \u001b[0mcopy\u001b[0m\u001b[0;34m.\u001b[0m\u001b[0mdeepcopy\u001b[0m\u001b[0;34m(\u001b[0m\u001b[0medges\u001b[0m\u001b[0;34m)\u001b[0m\u001b[0;34m\u001b[0m\u001b[0m\n\u001b[0m\u001b[1;32m     38\u001b[0m     \u001b[0;31m# now for each pair of nodes, count the number of\u001b[0m\u001b[0;34m\u001b[0m\u001b[0;34m\u001b[0m\u001b[0m\n\u001b[1;32m     39\u001b[0m     \u001b[0mdegree_counts\u001b[0m \u001b[0;34m=\u001b[0m \u001b[0mget_degrees\u001b[0m\u001b[0;34m(\u001b[0m\u001b[0medges\u001b[0m\u001b[0;34m)\u001b[0m\u001b[0;34m\u001b[0m\u001b[0m\n",
      "\u001b[0;31mAttributeError\u001b[0m: 'function' object has no attribute 'deepcopy'"
     ]
    }
   ],
   "source": []
  },
  {
   "cell_type": "code",
   "execution_count": null,
   "metadata": {
    "collapsed": true
   },
   "outputs": [],
   "source": [
    "figure()\n",
    "loglog(x, y, '*')\n",
    "xlabel('x')\n",
    "ylabel('y')\n",
    "title('K')\n",
    "show()"
   ]
  },
  {
   "cell_type": "markdown",
   "metadata": {},
   "source": [
    "Directed Graphs\n",
    "============\n",
    "Directed graphs are handled slightly differently than regular graphs:\n",
    "We need to keep track of both incoming and outgoing edges..."
   ]
  },
  {
   "cell_type": "code",
   "execution_count": null,
   "metadata": {
    "collapsed": false
   },
   "outputs": [],
   "source": [
    "# code to analyze directed graphs\n",
    "file = open(\"twitter.txt\")\n",
    "lines = file.readlines()\n",
    "edges = set()\n",
    "nodes_indegree = {}\n",
    "nodes_outdegree = {}\n",
    "\n",
    "# construct the indegree info and edges\n",
    "# very similar to what we did for directed graphs\n",
    "for line in lines:\n",
    "    data = line.split()\n",
    "    source = int(data[0])\n",
    "    endpoint = int(data[1])\n",
    "    # add the edge\n",
    "    edges.add((source, endpoint))\n",
    "    # update the count for the number of times we've seen each node\n",
    "    nodes_indegree[source] = nodes_indegree.get(source, -1) + 1\n",
    "    nodes_outdegree[endpoint] = nodes_outdegree.get(endpoint, -1) + 1\n",
    "\n",
    "%matplotlib inline\n",
    "from pylab import *\n",
    "import matplotlib.pyplot as plt\n",
    "\n",
    "# now show this to the viewer\n",
    "v_indegree = nodes_indegree.values()\n",
    "v_outdegree = nodes_outdegree.values()\n",
    "noRep_indegree = list(set(v_indegree))\n",
    "noRep_outdegree = list(set(v_outdegree))\n",
    "noRep_indegree.sort()\n",
    "noRep_outdegree.sort()\n",
    "\n",
    "x_indegree = []\n",
    "y_indegree = []\n",
    "x_outdegree = []\n",
    "y_outdegree = []\n",
    "\n",
    "for count in noRep_indegree:\n",
    "    f = v_indegree.count(count)\n",
    "    x_indegree.append(count)\n",
    "    y_indegree.append(f)\n",
    "    \n",
    "for count in noRep_outdegree:\n",
    "    f = v_outdegree.count(count)\n",
    "    x_outdegree.append(count)\n",
    "    y_outdegree.append(f)\n",
    "    \n",
    "figure()\n",
    "loglog(x_indegree, y_indegree, '*')\n",
    "xlabel('x')\n",
    "ylabel('y')\n",
    "title('indegree distribution')\n",
    "show()   \n",
    "\n",
    "figure()\n",
    "loglog(x_outdegree, y_outdegree, '*')\n",
    "xlabel('x')\n",
    "ylabel('y')\n",
    "title('outdegree distribution')\n",
    "show()\n"
   ]
  },
  {
   "cell_type": "markdown",
   "metadata": {},
   "source": [
    "# TODO for this byte\n",
    "==============\n",
    "* Choose a graph data set from http://snap.stanford.edu/data/index.html \n",
    "* Use the code given above and make sure everything works\n",
    "* Now explore the way in which k impacts the results. Experiment with different values of k. How does the number of connected components change as you increase k? How does the number of nodes in a the connected components change as you increase k? \n",
    "* Can you create a chart that shows the relationship between k and the number of connected components? Chart at least two different data sets and try to write something about how they are different. If you have trouble doing this in code, do it on paper and include an image of the result in your hand in\n",
    "* [optional] Can you make a version of k-core that works for directed graphs? For directed graphs the node degree is defined to be the in-degree + out-degree."
   ]
  },
  {
   "cell_type": "code",
   "execution_count": null,
   "metadata": {
    "collapsed": true
   },
   "outputs": [],
   "source": []
  }
 ],
 "metadata": {
  "kernelspec": {
   "display_name": "Python 2",
   "language": "python",
   "name": "python2"
  },
  "language_info": {
   "codemirror_mode": {
    "name": "ipython",
    "version": 2
   },
   "file_extension": ".py",
   "mimetype": "text/x-python",
   "name": "python",
   "nbconvert_exporter": "python",
   "pygments_lexer": "ipython2",
   "version": "2.7.9"
  }
 },
 "nbformat": 4,
 "nbformat_minor": 0
}
